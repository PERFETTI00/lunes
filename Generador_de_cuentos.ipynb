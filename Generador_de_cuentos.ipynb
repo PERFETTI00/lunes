{
  "nbformat": 4,
  "nbformat_minor": 0,
  "metadata": {
    "colab": {
      "provenance": [],
      "authorship_tag": "ABX9TyM+RRL0OD6MyQJ9tos2QoOq",
      "include_colab_link": true
    },
    "kernelspec": {
      "name": "python3",
      "display_name": "Python 3"
    },
    "language_info": {
      "name": "python"
    }
  },
  "cells": [
    {
      "cell_type": "markdown",
      "metadata": {
        "id": "view-in-github",
        "colab_type": "text"
      },
      "source": [
        "<a href=\"https://colab.research.google.com/github/PERFETTI00/lunes/blob/main/Generador_de_cuentos.ipynb\" target=\"_parent\"><img src=\"https://colab.research.google.com/assets/colab-badge.svg\" alt=\"Open In Colab\"/></a>"
      ]
    },
    {
      "cell_type": "code",
      "execution_count": null,
      "metadata": {
        "id": "sV9q8-Lt9Ww3"
      },
      "outputs": [],
      "source": []
    },
    {
      "cell_type": "markdown",
      "source": [
        "Cuaderno de prueba para generar cuentos"
      ],
      "metadata": {
        "id": "RqapVEX89Y9K"
      }
    },
    {
      "cell_type": "code",
      "source": [],
      "metadata": {
        "id": "GX97OUQh9cyG"
      },
      "execution_count": null,
      "outputs": []
    },
    {
      "cell_type": "markdown",
      "source": [
        "PASO 1 : // INICIO"
      ],
      "metadata": {
        "id": "dLe5mpDI-lAm"
      }
    },
    {
      "cell_type": "code",
      "source": [],
      "metadata": {
        "id": "R6QEmqBL-oXL"
      },
      "execution_count": null,
      "outputs": []
    },
    {
      "cell_type": "markdown",
      "source": [
        "PASO 2 : // PROMPT"
      ],
      "metadata": {
        "id": "Bm5viDyh-rkV"
      }
    },
    {
      "cell_type": "code",
      "source": [
        "prompt = \"\"\"\n",
        "Escribe un cuento de ciencia ficción de no más de 500 palabras, ambientado en el planeta desértico Dune. El protagonista es Alia, una joven Fremen de 16 años, experta en el manejo de armas y con un profundo conocimiento de las costumbres del desierto. Alia busca a su hermano menor, desaparecido durante un ataque de los Harkonnen hace cinco años. La única pista que tiene es un colgante con un símbolo ancestral que su hermano llevaba siempre. La historia debe tener un tono emotivo y centrarse en la determinación de Alia por encontrar a su familia, a pesar de los peligros que acechan en Dune. Introduce al menos un desafío específico que Alia deberá superar en su búsqueda.\n",
        "\"\"\""
      ],
      "metadata": {
        "id": "e-RT3Fa7-ud1"
      },
      "execution_count": 47,
      "outputs": []
    },
    {
      "cell_type": "code",
      "source": [
        "print(prompt)"
      ],
      "metadata": {
        "colab": {
          "base_uri": "https://localhost:8080/"
        },
        "id": "c1FbBlRY_CMm",
        "outputId": "e7395e15-31ad-4a12-d960-823be7157f57"
      },
      "execution_count": 48,
      "outputs": [
        {
          "output_type": "stream",
          "name": "stdout",
          "text": [
            "\n",
            "Escribe un cuento de ciencia ficción de no más de 500 palabras, ambientado en el planeta desértico Dune. El protagonista es Alia, una joven Fremen de 16 años, experta en el manejo de armas y con un profundo conocimiento de las costumbres del desierto. Alia busca a su hermano menor, desaparecido durante un ataque de los Harkonnen hace cinco años. La única pista que tiene es un colgante con un símbolo ancestral que su hermano llevaba siempre. La historia debe tener un tono emotivo y centrarse en la determinación de Alia por encontrar a su familia, a pesar de los peligros que acechan en Dune. Introduce al menos un desafío específico que Alia deberá superar en su búsqueda.\n",
            "\n"
          ]
        }
      ]
    },
    {
      "cell_type": "markdown",
      "source": [
        "PASO 3 : // NOMBRAR API"
      ],
      "metadata": {
        "id": "igV4ACDW_YIQ"
      }
    },
    {
      "cell_type": "code",
      "source": [
        "API_KEY = \"cd06a9fd-f54c-46ee-bb20-cb8516906e6f\"\n",
        "API_URL = \"http://evolve-Proxy-Is4d82xiNtI3-897265787.eu-west-1.elb.amazonaws.com/api/v1\""
      ],
      "metadata": {
        "id": "3T52k70D_gB3"
      },
      "execution_count": 49,
      "outputs": []
    },
    {
      "cell_type": "code",
      "source": [
        "print(API_KEY )"
      ],
      "metadata": {
        "colab": {
          "base_uri": "https://localhost:8080/"
        },
        "id": "tbvywHEX_y5H",
        "outputId": "c63f511a-d910-4631-aea5-537eb58388d2"
      },
      "execution_count": 50,
      "outputs": [
        {
          "output_type": "stream",
          "name": "stdout",
          "text": [
            "cd06a9fd-f54c-46ee-bb20-cb8516906e6f\n"
          ]
        }
      ]
    },
    {
      "cell_type": "code",
      "source": [
        "print(API_URL )"
      ],
      "metadata": {
        "colab": {
          "base_uri": "https://localhost:8080/"
        },
        "id": "tZrcDOTd_2A7",
        "outputId": "c5a4de39-4a0e-43aa-c152-c4a6b22129fd"
      },
      "execution_count": 51,
      "outputs": [
        {
          "output_type": "stream",
          "name": "stdout",
          "text": [
            "http://evolve-Proxy-Is4d82xiNtI3-897265787.eu-west-1.elb.amazonaws.com/api/v1\n"
          ]
        }
      ]
    },
    {
      "cell_type": "code",
      "source": [
        "import requests\n",
        "import json\n",
        "import os"
      ],
      "metadata": {
        "id": "uaL8B8S5ALfQ"
      },
      "execution_count": 52,
      "outputs": []
    },
    {
      "cell_type": "code",
      "source": [
        "def generate_text_completion(api_url, api_key, model=\"amazon.titan-text-express-v1\", message=\"Hello AWS!\"):\n",
        "    \"\"\"\n",
        "    Generates text completion using the specified API.\n",
        "\n",
        "    Args:\n",
        "        api_url: The URL of the API endpoint.\n",
        "        api_key: The API key for authorization.\n",
        "        model: The model to use for text generation (default: \"amazon.titan-text-express-v1\").\n",
        "        message: The message to send to the model (default: \"Hello AWS!\").\n",
        "\n",
        "    Returns:\n",
        "        The JSON response from the API, or None if an error occurs.\n",
        "        Prints an error message to the console if the request fails.\n",
        "    \"\"\"\n",
        "\n",
        "    headers = {\n",
        "        \"Content-Type\": \"application/json\",\n",
        "        \"Authorization\": f\"Bearer {api_key}\"\n",
        "    }\n",
        "\n",
        "    data = {\n",
        "        \"model\": model,\n",
        "        \"messages\": [\n",
        "            {\n",
        "                \"role\": \"user\",\n",
        "                \"content\": message\n",
        "            }\n",
        "        ]\n",
        "    }\n",
        "\n",
        "    try:\n",
        "        response = requests.post(f\"{api_url}/chat/completions\", headers=headers, data=json.dumps(data))\n",
        "        response.raise_for_status()  # Raise an exception for bad status codes (4xx or 5xx)\n",
        "        return response.json()\n",
        "    except requests.exceptions.RequestException as e:\n",
        "        print(f\"Error: {e}\")\n",
        "        if response.status_code != 200: #print the response body in case of an error.\n",
        "            print(f\"Response Body: {response.text}\")\n",
        "        return None\n",
        "    except json.JSONDecodeError as e:\n",
        "        print(f\"Error decoding JSON response: {e}\")\n",
        "        print(f\"Response Text: {response.text}\") #print the response text to debug json errors.\n",
        "        return None"
      ],
      "metadata": {
        "id": "3nknKrOiAak-"
      },
      "execution_count": 53,
      "outputs": []
    },
    {
      "cell_type": "code",
      "source": [
        "response = generate_text_completion(API_URL , API_KEY , \"amazon.titan-text-express-v1\" , prompt)"
      ],
      "metadata": {
        "id": "_Efs6ACYAqwi"
      },
      "execution_count": 54,
      "outputs": []
    },
    {
      "cell_type": "code",
      "source": [
        "response[\"choices\"][0][\"message\"][\"content\"]"
      ],
      "metadata": {
        "colab": {
          "base_uri": "https://localhost:8080/",
          "height": 137
        },
        "id": "3_KGxGJtBCkC",
        "outputId": "6a821e96-76ad-4671-f556-dba50edee7bc"
      },
      "execution_count": 55,
      "outputs": [
        {
          "output_type": "execute_result",
          "data": {
            "text/plain": [
              "'Como el sol dejaba caer su tenue luz sobre las oscura Diáspora dearena, Alia, una joven Fremen de 16 años, se dirigía con determinación hacia su objetivo. Ella tenía la misión de localizar la última posición conocida de su hermano menor, Farid, hace cinco años, cuando lo surprendieron en las peurianas cercanas y lo secuestraron. Aunque había escuchado rumores de que había sido llevado a la capital de los Harkonnen, Arrakeen, Alia no contaba con una pista confiable y necesitaba a toda costa encontrarlo. Cuando era pequeña, su padre y su hermano mayor la enseñaron las viejas costumbres y el conocimiento ancestral de los Fremen. Desde entonces, Alia se había convertido en una experta en el manejo de armas y un maestro del desierto. Acariciando una pulgada que había sido una reliquia en su familia durante generaciones, Alia se levantó del suelo y siguió su camino hacia las Terrenas Salvajes, en busca de alguna pista que la llevara a su hermano perdido. La búsqueda fue dura y el calor abrasador del desierto sa paramita cada paso, pero Alia nunca se dio por vencida. Su familia había sido afectada por los engaños y aberraciones de los Harkonnen y Alia no descansaría hasta que lo lograra. Alian encontró una señal clave en la arena que la llevó a un oasis jurásico donde, según se dijo, arrojaban el rebaño y el ganado. Con la esperanza de encontrar información sobre su hermano, Alia se acercó con sigilo al oasis, escondiendo su presencia tras estas grandes plantas que proporcionaban sombra y protección. Aunque la costos suasto no dormía, Alia podría sentir que sus ojos la miraban consternada. Se acercó más silenciosamente y tras investigar detenidamente, encontró una carta escrita por su hermano hace cinco años, antes de que lo capturaran. La carta le decía que su captor era el mismo hombre que había matado a su padre en una farsa de trialización de sangre, un Harkonnen de nombre Glusiris. Con la ayuda de esta información, Alia Etrava en su viaje hacia la capital aposentada. Sin embargo, la búsqueda no fue fácil y Alia tuvo que enfrentar los peligros que acechaban en cada momento. Finalmente, después de una serie de desafíos mortales, llegó a su último objetivo: a la capital de los Harkonnen, Arrakeen. A pesar de los guardias y vigilantes desplegados por toda la ciudad, Alia encontró un recurso inesperado al encontrarse con una colega tía, Nayla, que también estaba en busca de Farid. Junto a Nayla, Alia logró entrar en las profundidades de la fortaleza. Pero allí descubrió que la situación era más devastadora de lo que se podría imaginar. Dado que el Šcycle de las Tormentas se acercaba y se preparaban para la batalla, los Harkonnen lo estaban utilizando para reunir y entrenar a todos sus hombres para la Suprema Batalla. Finalmente, el hermano de Alia, Farid, había quedado atrapado debido a sus habilidades de combate. Reuniéndose con Oeuf, el líder Fremen, el grupo descubrió que Opphus batu a la llegada de la tormenta, que era el momento cuando el luchar se detenía. Con esta esperanza, Lelmaan se prepara para celebrar una reunión para comenzar. Aquí se Phase el conflicto de Alia sirve como la elliptóp la tormenta y llega a una resolución satisfactoria. El resto de la historia es cómo se prepara para la batalla final y se desarrolla la última confrontación. Además, puede haber una secuencia de los eventos que suceden durante la tormenta para crear tensión y drama. Durante toda la historia, Alia se ve enfrentada a múltiples obstáculos y desafíos que le ponen a prueba. La cautividad impronta las consecuencias continuas de las acciones del Clan Harkonnen hidrato y habla brought Reality of the hardship filmes Fremen. La búsqueda de su hermano significa mucho para ella, pero también implica la lucha contra una corrupta sociedad que la oprimía y que carmesí eres. \\n(\"William Wegner\", {URL})'"
            ],
            "application/vnd.google.colaboratory.intrinsic+json": {
              "type": "string"
            }
          },
          "metadata": {},
          "execution_count": 55
        }
      ]
    },
    {
      "cell_type": "code",
      "source": [],
      "metadata": {
        "id": "3WKJCg9qBaH7"
      },
      "execution_count": 55,
      "outputs": []
    },
    {
      "cell_type": "markdown",
      "source": [
        "PASO 4 : // GUARDAR"
      ],
      "metadata": {
        "id": "4OB7cy1VDFxs"
      }
    },
    {
      "cell_type": "code",
      "source": [
        "import random\n",
        "id = round(10000 * random.random())\n",
        "with open(\"STORY/story-%s.txt\" % str(id), \"w\") as f:\n",
        "  f.write(response[\"choices\"][0][\"message\"][\"content\"])"
      ],
      "metadata": {
        "id": "JiO8dI5cDJLO"
      },
      "execution_count": 60,
      "outputs": []
    },
    {
      "cell_type": "code",
      "source": [
        "id"
      ],
      "metadata": {
        "id": "-Il2qL0KFNs0",
        "colab": {
          "base_uri": "https://localhost:8080/"
        },
        "outputId": "0576577b-232d-448a-ec80-23e5a9da3877"
      },
      "execution_count": 61,
      "outputs": [
        {
          "output_type": "execute_result",
          "data": {
            "text/plain": [
              "7803"
            ]
          },
          "metadata": {},
          "execution_count": 61
        }
      ]
    },
    {
      "cell_type": "code",
      "source": [],
      "metadata": {
        "id": "JIZh9_JXFbrK"
      },
      "execution_count": 45,
      "outputs": []
    }
  ]
}